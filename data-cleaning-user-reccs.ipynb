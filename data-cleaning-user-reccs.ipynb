{
 "cells": [
  {
   "cell_type": "code",
   "execution_count": 31,
   "metadata": {},
   "outputs": [],
   "source": [
    "import pandas as pd\n",
    "raw_user_ratings = pd.read_csv('data/recommendations.csv')\n",
    "final_game_details = pd.read_csv('final_data/game_details.csv')"
   ]
  },
  {
   "cell_type": "code",
   "execution_count": 32,
   "metadata": {},
   "outputs": [
    {
     "name": "stdout",
     "output_type": "stream",
     "text": [
      "    app_id  user_id  is_recommended        date  hours\n",
      "0   975370    49625            True  2022-12-12   36.3\n",
      "1   304390     2482           False  2017-02-17   11.5\n",
      "2  1085660   243409            True  2019-11-17  336.5\n",
      "3   703080   248701            True  2022-09-23   27.4\n",
      "4   526870    22902            True  2021-01-10    7.9 \n",
      "\n",
      "(38354101, 5)\n"
     ]
    }
   ],
   "source": [
    "raw_user_ratings = raw_user_ratings[['app_id', 'user_id', 'is_recommended', 'date', 'hours']]\n",
    "# raw_user_ratings.replace({True:1, False:0}, inplace=True)\n",
    "print(raw_user_ratings.head(), '\\n')\n",
    "print(raw_user_ratings.shape)"
   ]
  },
  {
   "cell_type": "code",
   "execution_count": 33,
   "metadata": {},
   "outputs": [
    {
     "name": "stdout",
     "output_type": "stream",
     "text": [
      "     app_id  user_id  is_recommended        date  hours\n",
      "2   1085660   243409            True  2019-11-17  336.5\n",
      "7       730    60799           False  2021-11-30  157.5\n",
      "9    289070   435505            True  2020-05-26  397.5\n",
      "10   431960   191619            True  2020-10-14   30.3\n",
      "14  1172620   117868            True  2020-11-04   89.1\n",
      "(6727129, 5)\n"
     ]
    }
   ],
   "source": [
    "game_list = final_game_details['app_id'].unique()\n",
    "subset = raw_user_ratings[raw_user_ratings['app_id'].isin(game_list)]\n",
    "print(subset.head())\n",
    "print(subset.shape)"
   ]
  },
  {
   "cell_type": "code",
   "execution_count": 34,
   "metadata": {},
   "outputs": [
    {
     "name": "stdout",
     "output_type": "stream",
     "text": [
      "user_id\n",
      "12050407    36\n",
      "4755278     35\n",
      "10735609    35\n",
      "7609653     34\n",
      "3635265     33\n",
      "6612917     32\n",
      "13326161    30\n",
      "8543862     30\n",
      "12262292    30\n",
      "5433546     29\n",
      "dtype: int64\n"
     ]
    }
   ],
   "source": [
    "# Count most active users\n",
    "top_users = subset.groupby('user_id').size().sort_values(ascending=False)[:20]\n",
    "print(top_users.head(10))"
   ]
  },
  {
   "cell_type": "code",
   "execution_count": 35,
   "metadata": {},
   "outputs": [
    {
     "data": {
      "text/html": [
       "<div>\n",
       "<style scoped>\n",
       "    .dataframe tbody tr th:only-of-type {\n",
       "        vertical-align: middle;\n",
       "    }\n",
       "\n",
       "    .dataframe tbody tr th {\n",
       "        vertical-align: top;\n",
       "    }\n",
       "\n",
       "    .dataframe thead th {\n",
       "        text-align: right;\n",
       "    }\n",
       "</style>\n",
       "<table border=\"1\" class=\"dataframe\">\n",
       "  <thead>\n",
       "    <tr style=\"text-align: right;\">\n",
       "      <th></th>\n",
       "      <th>app_id</th>\n",
       "      <th>user_id</th>\n",
       "      <th>is_recommended</th>\n",
       "      <th>date</th>\n",
       "      <th>hours</th>\n",
       "    </tr>\n",
       "  </thead>\n",
       "  <tbody>\n",
       "    <tr>\n",
       "      <th>13574</th>\n",
       "      <td>431960</td>\n",
       "      <td>8588767</td>\n",
       "      <td>True</td>\n",
       "      <td>2020-12-31</td>\n",
       "      <td>59.6</td>\n",
       "    </tr>\n",
       "    <tr>\n",
       "      <th>23904</th>\n",
       "      <td>374320</td>\n",
       "      <td>3635265</td>\n",
       "      <td>False</td>\n",
       "      <td>2019-05-05</td>\n",
       "      <td>15.8</td>\n",
       "    </tr>\n",
       "    <tr>\n",
       "      <th>29447</th>\n",
       "      <td>292030</td>\n",
       "      <td>9320019</td>\n",
       "      <td>True</td>\n",
       "      <td>2019-05-26</td>\n",
       "      <td>124.7</td>\n",
       "    </tr>\n",
       "    <tr>\n",
       "      <th>56459</th>\n",
       "      <td>550</td>\n",
       "      <td>7609653</td>\n",
       "      <td>True</td>\n",
       "      <td>2020-09-28</td>\n",
       "      <td>42.5</td>\n",
       "    </tr>\n",
       "    <tr>\n",
       "      <th>135256</th>\n",
       "      <td>292030</td>\n",
       "      <td>8543862</td>\n",
       "      <td>True</td>\n",
       "      <td>2019-04-09</td>\n",
       "      <td>127.7</td>\n",
       "    </tr>\n",
       "    <tr>\n",
       "      <th>...</th>\n",
       "      <td>...</td>\n",
       "      <td>...</td>\n",
       "      <td>...</td>\n",
       "      <td>...</td>\n",
       "      <td>...</td>\n",
       "    </tr>\n",
       "    <tr>\n",
       "      <th>36094407</th>\n",
       "      <td>377160</td>\n",
       "      <td>6612917</td>\n",
       "      <td>True</td>\n",
       "      <td>2017-07-18</td>\n",
       "      <td>25.0</td>\n",
       "    </tr>\n",
       "    <tr>\n",
       "      <th>36181129</th>\n",
       "      <td>292030</td>\n",
       "      <td>13326161</td>\n",
       "      <td>True</td>\n",
       "      <td>2015-06-29</td>\n",
       "      <td>142.2</td>\n",
       "    </tr>\n",
       "    <tr>\n",
       "      <th>36475887</th>\n",
       "      <td>377160</td>\n",
       "      <td>13326161</td>\n",
       "      <td>True</td>\n",
       "      <td>2015-11-27</td>\n",
       "      <td>12.0</td>\n",
       "    </tr>\n",
       "    <tr>\n",
       "      <th>36480066</th>\n",
       "      <td>377160</td>\n",
       "      <td>5433546</td>\n",
       "      <td>True</td>\n",
       "      <td>2020-07-20</td>\n",
       "      <td>7.0</td>\n",
       "    </tr>\n",
       "    <tr>\n",
       "      <th>36485539</th>\n",
       "      <td>377160</td>\n",
       "      <td>3635265</td>\n",
       "      <td>True</td>\n",
       "      <td>2018-06-28</td>\n",
       "      <td>106.0</td>\n",
       "    </tr>\n",
       "  </tbody>\n",
       "</table>\n",
       "<p>609 rows × 5 columns</p>\n",
       "</div>"
      ],
      "text/plain": [
       "          app_id   user_id  is_recommended        date  hours\n",
       "13574     431960   8588767            True  2020-12-31   59.6\n",
       "23904     374320   3635265           False  2019-05-05   15.8\n",
       "29447     292030   9320019            True  2019-05-26  124.7\n",
       "56459        550   7609653            True  2020-09-28   42.5\n",
       "135256    292030   8543862            True  2019-04-09  127.7\n",
       "...          ...       ...             ...         ...    ...\n",
       "36094407  377160   6612917            True  2017-07-18   25.0\n",
       "36181129  292030  13326161            True  2015-06-29  142.2\n",
       "36475887  377160  13326161            True  2015-11-27   12.0\n",
       "36480066  377160   5433546            True  2020-07-20    7.0\n",
       "36485539  377160   3635265            True  2018-06-28  106.0\n",
       "\n",
       "[609 rows x 5 columns]"
      ]
     },
     "execution_count": 35,
     "metadata": {},
     "output_type": "execute_result"
    }
   ],
   "source": [
    "# Keep 20 most active users\n",
    "top_user_recommendation = subset[subset['user_id'].isin(top_users.index)]\n",
    "top_user_recommendation"
   ]
  },
  {
   "cell_type": "code",
   "execution_count": 36,
   "metadata": {},
   "outputs": [],
   "source": [
    "# Write to New CSV\n",
    "top_user_recommendation.to_csv('final_data/user_recommendations_subset.csv', index=False)"
   ]
  }
 ],
 "metadata": {
  "kernelspec": {
   "display_name": "mlaenv",
   "language": "python",
   "name": "python3"
  },
  "language_info": {
   "codemirror_mode": {
    "name": "ipython",
    "version": 3
   },
   "file_extension": ".py",
   "mimetype": "text/x-python",
   "name": "python",
   "nbconvert_exporter": "python",
   "pygments_lexer": "ipython3",
   "version": "3.10.13"
  }
 },
 "nbformat": 4,
 "nbformat_minor": 2
}
