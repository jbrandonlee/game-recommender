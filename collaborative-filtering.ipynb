{
 "cells": [
  {
   "cell_type": "markdown",
   "id": "f9b6c99e452ce4d8",
   "metadata": {
    "collapsed": false
   },
   "source": [
    "# Construct datasets"
   ]
  },
  {
   "cell_type": "code",
   "execution_count": 100,
   "id": "cb4422c624873841",
   "metadata": {
    "ExecuteTime": {
     "end_time": "2024-01-31T03:46:53.029832Z",
     "start_time": "2024-01-31T03:46:53.014812600Z"
    },
    "collapsed": false
   },
   "outputs": [],
   "source": [
    "import csv\n",
    "import json\n",
    "import random as rd\n",
    "\n",
    "import pandas as pd\n",
    "from surprise import (\n",
    "    Dataset,\n",
    "    Reader,\n",
    "    KNNBasic,\n",
    ")\n",
    "from surprise.model_selection import (\n",
    "    train_test_split,\n",
    ")\n",
    "from surprise.accuracy import rmse"
   ]
  },
  {
   "cell_type": "code",
   "execution_count": 101,
   "id": "6a4b01f7694441db",
   "metadata": {
    "ExecuteTime": {
     "end_time": "2024-01-31T03:56:03.044409800Z",
     "start_time": "2024-01-31T03:56:03.033406Z"
    },
    "collapsed": false
   },
   "outputs": [],
   "source": [
    "def load_reviews(path: str):\n",
    "    \"\"\"\n",
    "    read user-item rating\n",
    "    :param path: \n",
    "    :return: \n",
    "    \"\"\"\n",
    "    review_dict = {\n",
    "        'itemID': [],\n",
    "        'userID': [],\n",
    "        'rating': []\n",
    "    }\n",
    "    with open(path, 'r', encoding='utf-8') as f:\n",
    "        csv_reader = csv.reader(f)\n",
    "        for i, row in enumerate(csv_reader):\n",
    "            if not i:\n",
    "                continue\n",
    "            review_dict['itemID'].append(row[0])\n",
    "            review_dict['userID'].append(row[1])\n",
    "            is_recommended = row[2]\n",
    "            review_dict['rating'].append(2 if is_recommended == 'True' else 1)\n",
    "    df = pd.DataFrame(review_dict)\n",
    "    return df\n",
    "\n",
    "\n",
    "def load_games(path: str):\n",
    "    \"\"\"\n",
    "    Read game information\n",
    "    :param path: \n",
    "    :param positive_ratio_threshold: \n",
    "    :return: \n",
    "    \"\"\"\n",
    "    ret = []\n",
    "    with open(path, 'r', encoding='utf-8') as f:\n",
    "        csv_reader = csv.reader(f)\n",
    "        for i, row in enumerate(csv_reader):\n",
    "            if not i:\n",
    "                continue\n",
    "            ret.append(\n",
    "                {\n",
    "                    'app_id': row[0],\n",
    "                    'title': row[1],\n",
    "                    'rating': row[-1],\n",
    "                }\n",
    "            )\n",
    "    return ret"
   ]
  },
  {
   "cell_type": "code",
   "execution_count": 102,
   "id": "5615396e02f92de2",
   "metadata": {
    "ExecuteTime": {
     "end_time": "2024-01-31T03:56:03.793661200Z",
     "start_time": "2024-01-31T03:56:03.770158500Z"
    },
    "collapsed": false
   },
   "outputs": [],
   "source": [
    "reviews_df = load_reviews('final_data/user_recommendations_subset_clean.csv')\n",
    "games = load_games('final_data/game_details_subset_clean.csv')\n",
    "reviews_df = reviews_df[\n",
    "    reviews_df['itemID'].isin([game['app_id'] for game in games])\n",
    "]\n",
    "reader = Reader(rating_scale=(1, 2))\n",
    "reviews_dataset = Dataset.load_from_df(\n",
    "    reviews_df[['userID', 'itemID', 'rating']],\n",
    "    reader\n",
    ")\n",
    "train, test = train_test_split(reviews_dataset, test_size=0.2)"
   ]
  },
  {
   "cell_type": "code",
   "execution_count": 103,
   "id": "dd7126551f0416b0",
   "metadata": {
    "ExecuteTime": {
     "end_time": "2024-01-31T03:56:04.314243Z",
     "start_time": "2024-01-31T03:56:04.268045700Z"
    },
    "collapsed": false
   },
   "outputs": [
    {
     "name": "stdout",
     "output_type": "stream",
     "text": [
      "[games] len: 50\n"
     ]
    },
    {
     "data": {
      "text/html": [
       "<div>\n",
       "<style scoped>\n",
       "    .dataframe tbody tr th:only-of-type {\n",
       "        vertical-align: middle;\n",
       "    }\n",
       "\n",
       "    .dataframe tbody tr th {\n",
       "        vertical-align: top;\n",
       "    }\n",
       "\n",
       "    .dataframe thead th {\n",
       "        text-align: right;\n",
       "    }\n",
       "</style>\n",
       "<table border=\"1\" class=\"dataframe\">\n",
       "  <thead>\n",
       "    <tr style=\"text-align: right;\">\n",
       "      <th></th>\n",
       "      <th>itemID</th>\n",
       "      <th>userID</th>\n",
       "      <th>rating</th>\n",
       "    </tr>\n",
       "  </thead>\n",
       "  <tbody>\n",
       "    <tr>\n",
       "      <th>0</th>\n",
       "      <td>33</td>\n",
       "      <td>12</td>\n",
       "      <td>2</td>\n",
       "    </tr>\n",
       "    <tr>\n",
       "      <th>1</th>\n",
       "      <td>29</td>\n",
       "      <td>1</td>\n",
       "      <td>1</td>\n",
       "    </tr>\n",
       "    <tr>\n",
       "      <th>2</th>\n",
       "      <td>23</td>\n",
       "      <td>13</td>\n",
       "      <td>2</td>\n",
       "    </tr>\n",
       "    <tr>\n",
       "      <th>3</th>\n",
       "      <td>2</td>\n",
       "      <td>8</td>\n",
       "      <td>2</td>\n",
       "    </tr>\n",
       "    <tr>\n",
       "      <th>4</th>\n",
       "      <td>23</td>\n",
       "      <td>11</td>\n",
       "      <td>2</td>\n",
       "    </tr>\n",
       "    <tr>\n",
       "      <th>...</th>\n",
       "      <td>...</td>\n",
       "      <td>...</td>\n",
       "      <td>...</td>\n",
       "    </tr>\n",
       "    <tr>\n",
       "      <th>604</th>\n",
       "      <td>30</td>\n",
       "      <td>5</td>\n",
       "      <td>2</td>\n",
       "    </tr>\n",
       "    <tr>\n",
       "      <th>605</th>\n",
       "      <td>23</td>\n",
       "      <td>20</td>\n",
       "      <td>2</td>\n",
       "    </tr>\n",
       "    <tr>\n",
       "      <th>606</th>\n",
       "      <td>30</td>\n",
       "      <td>20</td>\n",
       "      <td>2</td>\n",
       "    </tr>\n",
       "    <tr>\n",
       "      <th>607</th>\n",
       "      <td>30</td>\n",
       "      <td>4</td>\n",
       "      <td>2</td>\n",
       "    </tr>\n",
       "    <tr>\n",
       "      <th>608</th>\n",
       "      <td>30</td>\n",
       "      <td>1</td>\n",
       "      <td>2</td>\n",
       "    </tr>\n",
       "  </tbody>\n",
       "</table>\n",
       "<p>609 rows × 3 columns</p>\n",
       "</div>"
      ],
      "text/plain": [
       "    itemID userID  rating\n",
       "0       33     12       2\n",
       "1       29      1       1\n",
       "2       23     13       2\n",
       "3        2      8       2\n",
       "4       23     11       2\n",
       "..     ...    ...     ...\n",
       "604     30      5       2\n",
       "605     23     20       2\n",
       "606     30     20       2\n",
       "607     30      4       2\n",
       "608     30      1       2\n",
       "\n",
       "[609 rows x 3 columns]"
      ]
     },
     "execution_count": 103,
     "metadata": {},
     "output_type": "execute_result"
    }
   ],
   "source": [
    "print('[games] len: {}'.format(len(games)))\n",
    "\n",
    "reviews_df"
   ]
  },
  {
   "cell_type": "markdown",
   "id": "2038a48a5f86dcd4",
   "metadata": {
    "collapsed": false
   },
   "source": [
    "# Build the training model"
   ]
  },
  {
   "cell_type": "code",
   "execution_count": 104,
   "id": "ac11b32a70d38e5d",
   "metadata": {
    "ExecuteTime": {
     "end_time": "2024-01-31T03:56:07.184445700Z",
     "start_time": "2024-01-31T03:56:07.161674500Z"
    },
    "collapsed": false
   },
   "outputs": [
    {
     "name": "stdout",
     "output_type": "stream",
     "text": [
      "Computing the cosine similarity matrix...\n",
      "Done computing similarity matrix.\n",
      "Computing the cosine similarity matrix...\n",
      "Done computing similarity matrix.\n"
     ]
    }
   ],
   "source": [
    "N_NEIGHBORS = 5\n",
    "\n",
    "sim_options = {\n",
    "    \"name\": \"cosine\",     # sim_options(dict): A dictionary of options for the similarity measure. Here we choose cosine\n",
    "    \"user_based\": False,  # item-based\n",
    "}\n",
    "\n",
    "model = KNNBasic(k=N_NEIGHBORS, sim_options=sim_options)\n",
    "model.fit(train)\n",
    "\n",
    "# save similiarity matrix to csv file\n",
    "sim_matrix = model.compute_similarities()\n",
    "sim_matrix_df = pd.DataFrame(sim_matrix)\n",
    "\n",
    "raw_iids = [model.trainset.to_raw_iid(inner_id) for inner_id in range(sim_matrix_df.shape[0])]\n",
    "sim_matrix_df.columns = raw_iids\n",
    "sim_matrix_df.index = raw_iids\n",
    "# sim_matrix_df.to_csv('model_output/collaborative_filtering_sim_matrix.csv', index=True)"
   ]
  },
  {
   "cell_type": "code",
   "execution_count": 105,
   "id": "62972fb9b4de660e",
   "metadata": {
    "ExecuteTime": {
     "end_time": "2024-01-31T03:56:07.757778300Z",
     "start_time": "2024-01-31T03:56:07.736757100Z"
    },
    "collapsed": false
   },
   "outputs": [],
   "source": [
    "# Calculate the top N similar items for each item\n",
    "top_n_neighbors = {}\n",
    "for i, inner_id in enumerate(model.trainset.all_items()):\n",
    "    raw_id = model.trainset.to_raw_iid(inner_id)\n",
    "    neighbors = model.get_neighbors(inner_id, k=N_NEIGHBORS)\n",
    "    top_n_neighbors[raw_id] = [model.trainset.to_raw_iid(neighbor) for neighbor in neighbors]\n",
    "\n",
    "# save top_n_neighbors into a Json file, which we'll read from for the recommend function\n",
    "with open('model_output/collaborative_filtering_top_n_neighbours.json', 'w', encoding='utf-8') as f:\n",
    "    json.dump(top_n_neighbors, f, ensure_ascii=False, indent=4)\n",
    "\n",
    "# load json file\n",
    "top_n_neighbors = json.load(open('model_output/collaborative_filtering_top_n_neighbours.json', 'r', encoding='utf-8'))"
   ]
  },
  {
   "cell_type": "code",
   "execution_count": 106,
   "id": "ce345809a7dc6d54",
   "metadata": {
    "ExecuteTime": {
     "end_time": "2024-01-31T03:56:08.313766300Z",
     "start_time": "2024-01-31T03:56:08.298088700Z"
    },
    "collapsed": false
   },
   "outputs": [],
   "source": [
    "def recommend(user_id: str, top_n: int = 10):\n",
    "    \"\"\"\n",
    "    recommend\n",
    "    :param user_id: \n",
    "    :param top_n: \n",
    "    :return: \n",
    "    \"\"\"\n",
    "    game_ids = [game['app_id'] for game in games]\n",
    "    # Get user rated items\n",
    "    user_items = reviews_df[reviews_df['userID'] == user_id]['itemID'].tolist()\n",
    "    if len(user_items) == 0:\n",
    "        # If user has not rated any item \n",
    "        sorted_games = sorted(games, key=lambda x: x['rating'], reverse=True)\n",
    "        return [game['app_id'] for game in sorted_games[:top_n]]\n",
    "        # choices = rd.choices(sorted_games, k=top_n)\n",
    "        # return [game['app_id'] for game in choices]\n",
    "    # Get the top N similar items to the item rated by the users\n",
    "    top_n_items = []\n",
    "    for user_item in user_items:\n",
    "        neighbor_list = top_n_neighbors.get(user_item, [])\n",
    "        for neighbor in neighbor_list:\n",
    "            if neighbor not in user_items and neighbor in game_ids:\n",
    "                top_n_items.append(neighbor)\n",
    "    top_n_items = list(set(top_n_items))\n",
    "    return top_n_items[:top_n]\n",
    "    # choices = rd.choices(top_n_items, k=top_n)\n",
    "    # return choices"
   ]
  },
  {
   "cell_type": "markdown",
   "id": "c1583f15",
   "metadata": {},
   "source": [
    "Right now we recommend top-n games.\n",
    "We can also use the function random.choices() to randomly pick n recommendations. \n"
   ]
  },
  {
   "cell_type": "code",
   "execution_count": 107,
   "id": "590fe836da586bd7",
   "metadata": {
    "ExecuteTime": {
     "end_time": "2024-01-31T03:56:08.998802100Z",
     "start_time": "2024-01-31T03:56:08.988954600Z"
    },
    "collapsed": false
   },
   "outputs": [
    {
     "name": "stdout",
     "output_type": "stream",
     "text": [
      "[Model Recommendation List]\n",
      "38\n",
      "21\n",
      "8\n",
      "46\n",
      "39\n",
      "4\n",
      "14\n",
      "10\n",
      "12\n",
      "32\n"
     ]
    }
   ],
   "source": [
    "# testing\n",
    "test_user_id = '1'\n",
    "recommend_list = recommend(test_user_id)\n",
    "# print('[Recommended Games]')\n",
    "# for item in reviews_df[reviews_df['userID'] == test_user_id]['itemID'].tolist():\n",
    "#     print(item)\n",
    "print('[Model Recommendation List]')\n",
    "for item in recommend_list:\n",
    "    print(item)"
   ]
  }
 ],
 "metadata": {
  "kernelspec": {
   "display_name": "mlaenv",
   "language": "python",
   "name": "mlaenv"
  },
  "language_info": {
   "codemirror_mode": {
    "name": "ipython",
    "version": 3
   },
   "file_extension": ".py",
   "mimetype": "text/x-python",
   "name": "python",
   "nbconvert_exporter": "python",
   "pygments_lexer": "ipython3",
   "version": "3.10.13"
  }
 },
 "nbformat": 4,
 "nbformat_minor": 5
}
