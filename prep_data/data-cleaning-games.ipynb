{
 "cells": [
  {
   "cell_type": "code",
   "execution_count": 1,
   "metadata": {},
   "outputs": [],
   "source": [
    "import pandas as pd\n",
    "raw_game_details = pd.read_csv('data/game_detail.csv')"
   ]
  },
  {
   "cell_type": "code",
   "execution_count": 2,
   "metadata": {},
   "outputs": [
    {
     "data": {
      "text/plain": [
       "array(['0 - 20000', '50000 - 100000', '20000 - 50000', '200000 - 500000',\n",
       "       '100000 - 200000', '2000000 - 5000000', '0 - 0',\n",
       "       '500000 - 1000000', '1000000 - 2000000', '20000000 - 50000000',\n",
       "       '5000000 - 10000000', '10000000 - 20000000',\n",
       "       '50000000 - 100000000', '100000000 - 200000000'], dtype=object)"
      ]
     },
     "execution_count": 2,
     "metadata": {},
     "output_type": "execute_result"
    }
   ],
   "source": [
    "# Check Estimated Owners Categories\n",
    "categories = raw_game_details['Estimated owners'].unique()\n",
    "categories"
   ]
  },
  {
   "cell_type": "code",
   "execution_count": 3,
   "metadata": {},
   "outputs": [
    {
     "data": {
      "text/plain": [
       "(150, 39)"
      ]
     },
     "execution_count": 3,
     "metadata": {},
     "output_type": "execute_result"
    }
   ],
   "source": [
    "# Get Games with High Number of Estimated Owners\n",
    "high_owners = categories[-5:]\n",
    "filtered_game_details = raw_game_details[raw_game_details['Estimated owners'].isin(high_owners)]\n",
    "filtered_game_details.shape"
   ]
  },
  {
   "cell_type": "code",
   "execution_count": 4,
   "metadata": {},
   "outputs": [
    {
     "name": "stdout",
     "output_type": "stream",
     "text": [
      "        AppID                                       Name  Release date  Price  \\\n",
      "736   1172470                              Apex Legends™   Nov 4, 2020   0.00   \n",
      "1289     4000                                Garry's Mod  Nov 29, 2006   9.99   \n",
      "1377  1203220                         NARAKA: BLADEPOINT  Aug 11, 2021  19.99   \n",
      "1637   814380  Sekiro™: Shadows Die Twice - GOTY Edition  Mar 21, 2019  59.99   \n",
      "1877  1286830              STAR WARS™: The Old Republic™  Jul 21, 2020   0.00   \n",
      "\n",
      "                                         About the game  \\\n",
      "736   Conquer with character in Apex Legends, a free...   \n",
      "1289  Garry's Mod is a physics sandbox. There aren't...   \n",
      "1377                                                NaN   \n",
      "1637  This Game of the Year Edition now includes bon...   \n",
      "1877  STAR WARS™: The Old Republic™ is the only mass...   \n",
      "\n",
      "                                    Supported languages  \\\n",
      "736   ['English', 'French', 'Italian', 'German', 'Sp...   \n",
      "1289  ['English', 'French', 'Italian', 'German', 'Sp...   \n",
      "1377  ['English', 'Simplified Chinese', 'Traditional...   \n",
      "1637  ['English', 'French', 'Italian', 'German', 'Sp...   \n",
      "1877                    ['English', 'French', 'German']   \n",
      "\n",
      "                                           Header image  \\\n",
      "736   https://cdn.akamai.steamstatic.com/steam/apps/...   \n",
      "1289  https://cdn.akamai.steamstatic.com/steam/apps/...   \n",
      "1377  https://cdn.akamai.steamstatic.com/steam/apps/...   \n",
      "1637  https://cdn.akamai.steamstatic.com/steam/apps/...   \n",
      "1877  https://cdn.akamai.steamstatic.com/steam/apps/...   \n",
      "\n",
      "                                    Website  Windows    Mac  Linux  Positive  \\\n",
      "736   https://www.ea.com/games/apex-legends     True  False  False    415524   \n",
      "1289             https://gmod.facepunch.com     True   True   True    822326   \n",
      "1377          https://www.narakathegame.com     True  False  False     86893   \n",
      "1637          http://www.sekirothegame.com/     True  False  False    179498   \n",
      "1877                  http://www.swtor.com/     True  False  False     39819   \n",
      "\n",
      "      Negative             Developers  \\\n",
      "736      66608  Respawn Entertainment   \n",
      "1289     29004      Facepunch Studios   \n",
      "1377     24106       24 Entertainment   \n",
      "1637      9339           FromSoftware   \n",
      "1877      4369                BioWare   \n",
      "\n",
      "                                             Categories  \\\n",
      "736   Multi-player,PvP,Online PvP,Co-op,Online Co-op...   \n",
      "1289  Single-player,Multi-player,PvP,Online PvP,LAN ...   \n",
      "1377  Multi-player,PvP,Online PvP,In-App Purchases,P...   \n",
      "1637  Single-player,Steam Achievements,Full controll...   \n",
      "1877  Multi-player,MMO,PvP,Co-op,Steam Achievements,...   \n",
      "\n",
      "                                      Genres  \n",
      "736            Action,Adventure,Free to Play  \n",
      "1289                        Indie,Simulation  \n",
      "1377  Action,Adventure,Massively Multiplayer  \n",
      "1637                        Action,Adventure  \n",
      "1877  Free to Play,Massively Multiplayer,RPG  \n"
     ]
    }
   ],
   "source": [
    "# Drop Unneeded Columns\n",
    "# Note: Languages and Platforms are kept, to be used as post-recommendation filters\n",
    "filtered_game_details = filtered_game_details[['AppID', 'Name', 'Release date', 'Price', 'About the game', 'Supported languages', 'Header image', 'Website',\n",
    "                                               'Windows', 'Mac', 'Linux', 'Positive', 'Negative', 'Developers', 'Categories', 'Genres']]\n",
    "print(filtered_game_details.head())"
   ]
  },
  {
   "cell_type": "code",
   "execution_count": 5,
   "metadata": {},
   "outputs": [
    {
     "name": "stderr",
     "output_type": "stream",
     "text": [
      "C:\\Users\\Lee Junhui Brandon\\AppData\\Local\\Temp\\ipykernel_20780\\2021060265.py:7: SettingWithCopyWarning: \n",
      "A value is trying to be set on a copy of a slice from a DataFrame\n",
      "\n",
      "See the caveats in the documentation: https://pandas.pydata.org/pandas-docs/stable/user_guide/indexing.html#returning-a-view-versus-a-copy\n",
      "  final_game_details.sort_values('AppID', inplace=True)\n"
     ]
    },
    {
     "data": {
      "text/plain": [
       "(50, 15)"
      ]
     },
     "execution_count": 5,
     "metadata": {},
     "output_type": "execute_result"
    }
   ],
   "source": [
    "# Get Top 50 Games with the Most Total Reviews\n",
    "filtered_game_details['Total Reviews'] = filtered_game_details['Positive'] + filtered_game_details['Negative']\n",
    "filtered_game_details['Rating'] = filtered_game_details['Positive'] / filtered_game_details['Total Reviews']\n",
    "filtered_game_details.sort_values('Total Reviews', inplace=True, ascending=False)\n",
    "filtered_game_details.drop(['Positive', 'Negative', 'Total Reviews'], axis='columns', inplace=True)\n",
    "final_game_details = filtered_game_details.iloc[:50, :]\n",
    "final_game_details.sort_values('AppID', inplace=True)\n",
    "final_game_details.shape"
   ]
  },
  {
   "cell_type": "code",
   "execution_count": 6,
   "metadata": {},
   "outputs": [
    {
     "name": "stderr",
     "output_type": "stream",
     "text": [
      "C:\\Users\\Lee Junhui Brandon\\AppData\\Local\\Temp\\ipykernel_20780\\2134503414.py:2: SettingWithCopyWarning: \n",
      "A value is trying to be set on a copy of a slice from a DataFrame\n",
      "\n",
      "See the caveats in the documentation: https://pandas.pydata.org/pandas-docs/stable/user_guide/indexing.html#returning-a-view-versus-a-copy\n",
      "  final_game_details.rename(columns={'AppID': 'app_id',\n",
      "C:\\Users\\Lee Junhui Brandon\\AppData\\Local\\Temp\\ipykernel_20780\\2134503414.py:18: SettingWithCopyWarning: \n",
      "A value is trying to be set on a copy of a slice from a DataFrame.\n",
      "Try using .loc[row_indexer,col_indexer] = value instead\n",
      "\n",
      "See the caveats in the documentation: https://pandas.pydata.org/pandas-docs/stable/user_guide/indexing.html#returning-a-view-versus-a-copy\n",
      "  final_game_details['categories'] = final_game_details['categories'].str.lower()\n",
      "C:\\Users\\Lee Junhui Brandon\\AppData\\Local\\Temp\\ipykernel_20780\\2134503414.py:19: SettingWithCopyWarning: \n",
      "A value is trying to be set on a copy of a slice from a DataFrame\n",
      "\n",
      "See the caveats in the documentation: https://pandas.pydata.org/pandas-docs/stable/user_guide/indexing.html#returning-a-view-versus-a-copy\n",
      "  final_game_details['categories'].replace('[^0-9a-zA-Z,]', '', regex=True, inplace=True)\n",
      "C:\\Users\\Lee Junhui Brandon\\AppData\\Local\\Temp\\ipykernel_20780\\2134503414.py:20: SettingWithCopyWarning: \n",
      "A value is trying to be set on a copy of a slice from a DataFrame.\n",
      "Try using .loc[row_indexer,col_indexer] = value instead\n",
      "\n",
      "See the caveats in the documentation: https://pandas.pydata.org/pandas-docs/stable/user_guide/indexing.html#returning-a-view-versus-a-copy\n",
      "  final_game_details['genres'] = final_game_details['genres'].str.lower()\n",
      "C:\\Users\\Lee Junhui Brandon\\AppData\\Local\\Temp\\ipykernel_20780\\2134503414.py:21: SettingWithCopyWarning: \n",
      "A value is trying to be set on a copy of a slice from a DataFrame\n",
      "\n",
      "See the caveats in the documentation: https://pandas.pydata.org/pandas-docs/stable/user_guide/indexing.html#returning-a-view-versus-a-copy\n",
      "  final_game_details['genres'].replace('[^0-9a-zA-Z,]', '', regex=True, inplace=True)\n"
     ]
    }
   ],
   "source": [
    "# Write to New CSV\n",
    "final_game_details.rename(columns={'AppID': 'app_id',\n",
    "                                   'Name': 'name',\n",
    "                                   'Release date': 'release_date',\n",
    "                                   'About the game': 'description',\n",
    "                                   'Supported languages': 'languages',\n",
    "                                   'Header image': 'image_url',\n",
    "                                   'Website': 'web_url',\n",
    "                                   'Windows': 'platform_windows',\n",
    "                                   'Mac' : 'platform_mac',\n",
    "                                   'Linux' : 'platform_linux',\n",
    "                                   'Rating' : 'rating',\n",
    "                                   'Negative': 'review_negative',\n",
    "                                   'Developers': 'developers',\n",
    "                                   'Categories': 'categories',\n",
    "                                   'Genres': 'genres'}, inplace=True)\n",
    "\n",
    "final_game_details['categories'] = final_game_details['categories'].str.lower()\n",
    "final_game_details['categories'].replace('[^0-9a-zA-Z,]', '', regex=True, inplace=True)\n",
    "final_game_details['genres'] = final_game_details['genres'].str.lower()\n",
    "final_game_details['genres'].replace('[^0-9a-zA-Z,]', '', regex=True, inplace=True)\n",
    "\n",
    "final_game_details.to_csv('final_data/game_details_subset.csv', index=False)"
   ]
  }
 ],
 "metadata": {
  "kernelspec": {
   "display_name": "mlaenv",
   "language": "python",
   "name": "python3"
  },
  "language_info": {
   "codemirror_mode": {
    "name": "ipython",
    "version": 3
   },
   "file_extension": ".py",
   "mimetype": "text/x-python",
   "name": "python",
   "nbconvert_exporter": "python",
   "pygments_lexer": "ipython3",
   "version": "3.10.13"
  }
 },
 "nbformat": 4,
 "nbformat_minor": 2
}
